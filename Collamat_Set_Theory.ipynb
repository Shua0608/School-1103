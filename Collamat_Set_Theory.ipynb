{
 "cells": [
  {
   "cell_type": "markdown",
   "id": "00f8152b",
   "metadata": {},
   "source": [
    "Joshua P. Collamat"
   ]
  },
  {
   "cell_type": "markdown",
   "id": "0a833f81",
   "metadata": {},
   "source": [
    "# 1.Proving Identities"
   ]
  },
  {
   "cell_type": "markdown",
   "id": "b16f791e",
   "metadata": {},
   "source": [
    "1. $ A \\setminus B \\ = A \\cap B^\\complement $ \\\n",
    "if $ X \\in A$ then $X \\notin B $ \\\n",
    "if $ X \\notin B$ then $X \\in B^\\complement $ \\\n",
    "if $ X \\in B^\\complement$ then $X \\in A \\land X \\in B^\\complement $ \\\n",
    "if $ X \\in A \\land X \\in B^\\complement$ then $X \\in A \\cap B^\\complement $ \\\n",
    "if $ x \\in A \\land X \\in B^\\complement$ then $X \\in A \\cap B^\\complement $ \\\n",
    "Then that means $ A \\setminus B  = A \\cap B^\\complement $ \\\n",
    "\n",
    "2. $ B = (B \\cap A) \\cup (B \\cap A^\\complement)$ \\\n",
    "if $ X \\in B then X \\in (B \\cap A^\\complement)$ \\\n",
    "if $ X \\in (B \\cap A) \\vee X \\in (B \\cap A^\\complement)$ then $X \\in (B \\cap A) \\cup (B \\cap A^\\complement)$ \\\n",
    "That means $ B \\subseteq (B \\cap A) \\cup (B \\cap A^\\complement)$ \\\n",
    "And since $ X \\in (B \\cap A) \\vee X \\in (B\\cap A^\\complement)$ then $X \\in (B \\cap A) \\cup (B \\cap A^\\complement)$ \\\n",
    "We can then conclude that $ B \\subseteq (B \\cap A) \\cup (B \\cap A^\\complement)$ \\\n",
    "If $ X \\in (B \\cap A) \\cup (B \\cap A^\\complement)$ then $ X \\in (B \\cap A) \\vee X \\in (B \\cap A^\\complement)$ \\\n",
    "Or $ X \\in B $ \\ \n",
    "Therefore $ (B \\cap A) \\cup (B \\cap A^\\complement) \\subseteq B $ \\\n",
    "Because $ B \\subseteq (B \\cap A) \\cup (B \\cup A^\\complement)$ and $(B \\cap A) \\cup (B \\cap A^\\complement) \\subseteq B$ it follows = $(B \\cap A) \\cup (B \\cap A^\\complement)$ \n",
    "\n",
    "3. $ B \\setminus A = B \\cap A^\\complement $\n",
    "If $ X \\in B \\ A $ then $ X \\notin A$ \\\n",
    "If $ X \\notin A $ then $ X \\in A^\\complement $ \\\n",
    "If $ X \\in A^\\complement $ then $ X \\in B \\wedge X \\in A^\\complement $ \\\n",
    "If $ X \\in B \\wedge X \\in A^\\complement $ then $ X \\in A^\\complement $ \\\n",
    "We can conlude that $ B \\setminus A = B \\cap A^\\complement $ \n",
    "\n",
    "4. $ A \\cup B = A \\cup (B \\cap A^\\complement)$ \\\n",
    "If $ X \\in A \\cup B $ then $ X \\in A \\vee X \\in B $ \\\n",
    "If $ X \\in A $ then $ X \\in A \\cup (B \\cap A^\\complement) $ \\ \n",
    "If $ X \\in B $ then either $ X \\in A \\wedge X \\notin A $ \\\n",
    "If $ X \\notin A $ then $ X \\in B \\cap A^\\complement $ and thus $X \\in A \\cup (B \\cap A^\\complement) $ \n",
    "\n",
    "Now if $ X \\in A \\cup (B \\cap A^\\complement)$ then $ X \\in A \\vee X \\in B \\cap (A^\\complement)$ \\\n",
    "If $ X \\in A $ $ X \\in A \\cup B$ \\\n",
    "If $ X \\in B \\cap A^\\complement $  then $ X \\in B $ and $ X \\in A \\cup B $ \\\n",
    "That means $ X \\in A \\cup B $ \\\n",
    "$ A \\cup (B \\cap A^\\complement) \\subseteq A \\cup B $ \n",
    "\n",
    "Because $ A \\cup B \\subseteq A \\cup (B \\cap A^\\complement) $ and $ A \\cup (B \\cap A^\\complement) \\subseteq A \\cup B $ then $ A \\cup B = A \\cup (B \\cap A^\\complement)$ \n",
    "\n",
    "5. $(\\cup_{i=1}^\\infty A_i^\\complement)^\\complement$ = $\\cap_i^\\infty A_i $ \n",
    "|$A \\cup B$| = |$A$| + |$B$| - |$A \\cap B$| \\\n",
    "**Claim:** For any two sets $A$ and $B$:\n",
    "$$\n",
    "|A \\cup B| = |A| + |B| - |A \\cap B|\n",
    "$$\n",
    "\n",
    "**Proof:** Let $|X|$ denote the cardinality of set $X$.\n",
    "\n",
    "Consider sets $A$ and $B$.\n",
    "\n",
    "- If $|A|$ denotes the cardinality of set $A$,\n",
    "- And if $|B|$ denotes the cardinality of set $B$,\n",
    "\n",
    "When we form the union of sets $A$ and $B$, denoted by $A \\cup B$, we intuitively expect its size to be the sum of the sizes of $A$ and $B$. That is,\n",
    "$$\n",
    "|A \\cup B| = |A| + |B|\n",
    "$$\n",
    "\n",
    "However, we need to account for the possibility that some elements might be common to both $A$ and $B$, i.e., they belong to their intersection, $A \\cap B$. To avoid counting these elements twice, we need to subtract the size of their intersection from the sum. If $|A \\cap B|$ represents the size of the intersection set,\n",
    "$$\n",
    "|A \\cup B| = |A| + |B| - |A \\cap B|\n",
    "$$\n",
    "\n",
    "This can be expressed as a conditional statement:\n",
    "If we take the union of sets $A$ and $B$, denoted by $A \\cup B$, then the size of this union is equal to the sum of the sizes of $A$ and $B$, minus the size of their intersection, $A \\cap B$.\n",
    "\n",
    "This completes the proof. \n",
    "\n",
    "6. $|A \\cup B|=|A|+|B|-|A \\cap B|\n",
    "$(\\cup_{i=1}^\\infty A_i^\\complement)^\\complement$ = $\\cap_i^\\infty A_i^\\complement$ \\\n",
    "\n",
    "Left side: \\\n",
    "If $x \\in (\\cup_{i=1}^\\infty A_i^\\complement)^\\complement$. This means $x$ is not in the union of the complements of ($A_1, A_2, A_3, \\ldots$). Therefore, $x$ is not in the complement of any of these sets. In other words, for all $i$, $x \\notin A_i^\\complement$.\n",
    "\n",
    "This implies that $x$ is in the complement of each of the sets $A_i$, i.e., $x \\in A_i^\\complement$ for all $i$. Consequently, $x$ is in the intersection of the complements of the sets $A_1, A_2, A_3, \\ldots$ which is the right side: $\\cap_{i=1}^\\infty A_i^\\complement$.\n",
    "\n",
    "Right side: \\\n",
    "Now, assume an element $y$ is in the RHS (intersection of complements), i.e., $y \\in \\cap_{i=1}^\\infty A_i^\\complement$. This means $y$ is in the complement of each of the sets $A_1, A_2, A_3, \\ldots$. Therefore, $y$ is not in any of these sets, i.e., for all $i$, $y \\notin A_i$.\n",
    "\n",
    "This implies that $y$ is not in the union of these sets' originals, i.e., $y \\notin \\cup_{i=1}^\\infty A_i$. Consequently, $y$ is in the complement of the union of the complements, which is the LHS: $(\\cup_{i=1}^\\infty A_i^\\complement)^\\complement$.\n",
    "\n",
    "Since we have shown that any element from the left is also in the right and vice versa, the left side is equal to the right side. \\\n",
    "Meaning, $(\\cup_{i=1}^\\infty A_i^\\complement)^\\complement$ = $\\cap_i^\\infty A_i^\\complement$"
   ]
  },
  {
   "cell_type": "markdown",
   "id": "e7c45f1f",
   "metadata": {},
   "source": [
    "# 2.Sets And Subsets"
   ]
  },
  {
   "cell_type": "markdown",
   "id": "e2d7f64a",
   "metadata": {},
   "source": [
    "\n",
    "#### A. If $\\textbf{A} = \\{2,3,4,5\\}$, and $\\textbf{B} = \\{x\\in\\mathbb{N} | x \\ is \\ even$ is $\\textbf{A}\\subset\\textbf{B}$? Show proof.\n",
    "- B = {2, 4, 6, 8, ...}\n",
    "- {2, 4} $\\subset$ A, {2, 4} $\\subset$ B\n",
    "- {3, 5} $\\subset$ A, {3, 5} $\\not\\subset$ B\n",
    "- A $\\not\\subset$ B\n",
    "\n",
    "#### B. Let sets\n",
    "$\\textbf{A} = \\{x|x \\in \\mathbb{Z}, 0 \\leq x \\leq 9\\},\n",
    "\\textbf{B} = \\{ 2,4,6,8\\},\n",
    "\\ and \\ \n",
    "\\textbf{C}  = \\{ 1,3,5,7,9\\}\n",
    "\\ and \\ \\textbf{D}  = \\{ 3,4,5\\}$\n",
    "Find a set $\\textbf{X}$ which will satisfy the following conditions: <br>\n",
    "    1. $\\textbf{X} \\ and \\ \\textbf{B}$ are disjoint. <br>\n",
    "    $\\textbf{X}$ = {5}<br>$\\textbf{X} \\cap \\textbf{B}$ = {5} $\\cap$ {2, 4, 6, 8} = $\\emptyset$ <br>\n",
    "    2. $\\textbf{X} \\subseteq \\textbf{D}$ but $\\textbf{X} \\nsubseteq \\textbf{B}$. <br>\n",
    "    $\\textbf{X}$ = {5}<br> $\\textbf{X} \\subseteq \\textbf{D}$ = {5} $\\subseteq$ {3, 4, 5}<br>$\\textbf{X} \\nsubseteq \\textbf{B}$ = {5} $\\nsubseteq$ {2, 4, 6, 8}<br>\n",
    "    3. $\\textbf{X} \\subseteq \\textbf{A}$ but $\\textbf{X} \\not\\subset \\textbf{C}$.<br>\n",
    "     $\\textbf{X}$ = {3,5,7,9,1} <br>\n",
    "    $\\textbf{X} \\subseteq \\textbf{A}$ = {3,5,7,9,1} $\\subseteq$ {0, 1, 2, 3, 4, 5, 6, 7, 8, 9} <br>\n",
    "    $\\textbf{X} \\not\\subset \\textbf{C}$ = {3,5,7,9,1} $\\not\\subset$ {1, 3, 5, 7, 9}"
   ]
  },
  {
   "cell_type": "markdown",
   "id": "4fece851",
   "metadata": {},
   "source": [
    "# 3.Set Operations"
   ]
  },
  {
   "cell_type": "markdown",
   "id": "8a54d671",
   "metadata": {},
   "source": [
    "### #Latex Solution\n",
    "\n",
    "U = {1,2,3,4,5} <br>\n",
    "A = {1,2,3,4,5} <br>\n",
    "B = {4,5,6,7} <br>\n",
    "C = {5,6,7,8,9} <br>\n",
    "D = {1,3,5,7,9} <br>\n",
    "E = {2,4,6,8} <br>\n",
    "F = {1,5,9}\n",
    "\n",
    "#### Symmetric Difference of C and D\n",
    "$C \\oplus D = C \\Delta D = \\{5,6,7,8,9\\} \\Delta \\{1,3,5,7,9\\} = \\{1,3,6,7,8,9\\}$\n",
    "\n",
    "#### Set difference of A and B\n",
    "$A - B = \\{1,2,3,4,5\\} - \\{4,5,6,7\\} = \\{1,2,3\\}$\n",
    "\n",
    "#### Set difference of B and A \n",
    "$B - A = \\{4,5,6,7\\} - \\{1,2,3,4,5\\} = \\{6,7\\}$\n",
    "\n",
    "#### Symmetric Difference of E and F\n",
    "$E \\oplus F = E \\Delta F = \\{2,4,6,8\\} \\Delta \\{1,5,6\\} = \\{1,2,4,8\\}$\n",
    "\n"
   ]
  },
  {
   "cell_type": "markdown",
   "id": "d51dd203",
   "metadata": {},
   "source": [
    "### #Python Solution"
   ]
  },
  {
   "cell_type": "code",
   "execution_count": 7,
   "id": "d38e9c54",
   "metadata": {},
   "outputs": [
    {
     "name": "stdout",
     "output_type": "stream",
     "text": [
      "C⊕D = {8, 1, 3, 6}\n",
      "A\\B = {1, 2, 3}\n",
      "B\\A = {6, 7}\n",
      "E⊕F = {1, 2, 4, 5, 6, 8, 9}\n",
      "C⊕D using symmetric_difference() method = {1, 3, 6, 8}\n"
     ]
    }
   ],
   "source": [
    "# Define the sets\n",
    "U = {1, 2, 3, 4, 5}\n",
    "A = {1, 2, 3, 4, 5}\n",
    "B = {4, 5, 6, 7}\n",
    "C = {5, 6, 7, 8, 9}\n",
    "D = {1, 3, 5, 7, 9}\n",
    "E = {2, 4, 6, 8}\n",
    "F = {1, 5, 9}\n",
    "\n",
    "# Find C⊕D\n",
    "CD = (C.difference(D)).union(D.difference(C))\n",
    "print(\"C⊕D =\", CD)\n",
    "\n",
    "# Find A\\B\n",
    "AB = A.difference(B)\n",
    "print(\"A\\B =\", AB)\n",
    "\n",
    "# Find B\\A\n",
    "BA = B.difference(A)\n",
    "print(\"B\\A =\", BA)\n",
    "\n",
    "# Find E⊕F\n",
    "EF = (E.difference(F)).union(F.difference(E))\n",
    "print(\"E⊕F =\", EF)\n",
    "\n",
    "# Find C⊕D using the symmetric_difference() method\n",
    "CD_sym = C.symmetric_difference(D)\n",
    "print(\"C⊕D using symmetric_difference() method =\", CD_sym)\n"
   ]
  },
  {
   "cell_type": "markdown",
   "id": "35d61ccf",
   "metadata": {},
   "source": [
    "# 4. Finite Sets and The Counting Principles"
   ]
  },
  {
   "cell_type": "markdown",
   "id": "8a4c4311",
   "metadata": {},
   "source": [
    "In a Survey of 120 People, it was found that:\n",
    "- 65 read Newsweek Magazine\n",
    "- 45 read Times Magazine\n",
    "- 42 read Fortune Magazine\n",
    "- 20 read Both Newsweek and Time\n",
    "- 25 read both Newsweek and Fortune\n",
    "- 15 read both Time and Fortune\n",
    "- 8 read all three magazines\n",
    "With these information do the following:<br>\n",
    "1. Draw the venn diagram using python.\n",
    "2. Find the number of people who read at $\\textbf{\"least one\"}$ of the three magazines.\n",
    "3. Find the number of people who read exactly one magazine.\n",
    "<br>\n",
    "<br>\n"
   ]
  },
  {
   "cell_type": "markdown",
   "id": "6a742f49",
   "metadata": {},
   "source": [
    "- $|A| \\cup |B| \\cup |C| = |A| + |B| + |C| - |A \\cap B| - |A \\cap C| - |B \\cap C| + |A \\cap B \\cap C| = 65 + 45 + 42 - 20 - 25 - 15 + 8 = 100$\n",
    "\n",
    "100 out of 120 people read at least one of the three magazines\n",
    "<br>\n",
    "$|A| \\cup |B| \\cup |C| = 100$\n",
    "\n",
    "- $|A| - |A \\cap B| - |A \\cap C| + |A \\cap B \\cap C| = 65 - 20 - 25 + 8 = 28$ <br> (People who read only Newsweek)\n",
    "- $|B| - |A \\cap B| - |B \\cap C| + |A \\cap B \\cap C| = 45 - 20 - 15 + 8 = 18$ <br>  (People who read only Times)\n",
    "- $|C| - |B \\cap C| - |A \\cap C| + |A \\cap B \\cap C| = 42 - 15 - 25 + 8 = 10$ <br> (People who read only Fortune)<br> <br>\n",
    "- $28 + 18 + 10 = 56$\n",
    "<br> Answer: 56 out of 120 people read exactly one magazine.\n"
   ]
  },
  {
   "cell_type": "markdown",
   "id": "ad3b4dbb",
   "metadata": {},
   "source": [
    "<br> In a survey of 25 new cars being sold at a local auto dealer, it was conducted to see which of the three popular options: air-conditioning, denoted as A; radio, denoted as R; and power windows, denoted as W were installed. The survey found that:\n",
    "- 15 had A. *(Hint: The condition said \"had an A\" AND NOT \"had an A only\")*\n",
    "- 12 had R. *(Hint: The condition said \"had an R\" AND NOT \"had an R only\")*\n",
    "- 11 had W. *(Hint: The condition said \"had a W\" AND NOT \"had a W only\")*\n",
    "- 5 had A and W.\n",
    "- 9 had A and R.\n",
    "- 4 had R and W.\n",
    "- Only 3 have all three options.\n",
    "\n",
    "With this information, do the following:\n",
    "1. Draw the Venn diagram using Python.\n",
    "2. Find the number of cars with W only.\n",
    "3. Find the number of cars with A only.\n",
    "4. Find the number of cars with R only.\n",
    "5. Find the number of cars with both R and W but not A.\n",
    "6. Find the number of cars with both A and R but not W.\n",
    "7. Find the number of cars with only one of the options.\n",
    "8. Find the number of cars with at least one option.\n",
    "9. Find the number of cars with none of the options."
   ]
  },
  {
   "cell_type": "code",
   "execution_count": null,
   "id": "30b5efca",
   "metadata": {},
   "outputs": [],
   "source": []
  }
 ],
 "metadata": {
  "kernelspec": {
   "display_name": "Python 3 (ipykernel)",
   "language": "python",
   "name": "python3"
  },
  "language_info": {
   "codemirror_mode": {
    "name": "ipython",
    "version": 3
   },
   "file_extension": ".py",
   "mimetype": "text/x-python",
   "name": "python",
   "nbconvert_exporter": "python",
   "pygments_lexer": "ipython3",
   "version": "3.11.4"
  }
 },
 "nbformat": 4,
 "nbformat_minor": 5
}
